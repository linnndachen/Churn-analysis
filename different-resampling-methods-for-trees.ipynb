{
 "cells": [
  {
   "cell_type": "code",
   "execution_count": 1,
   "metadata": {
    "_cell_guid": "b1076dfc-b9ad-4769-8c92-a6c4dae69d19",
    "_uuid": "8f2839f25d086af736a60e9eeb907d3b93b6e0e5"
   },
   "outputs": [],
   "source": [
    "# This Python 3 environment comes with many helpful analytics libraries installed\n",
    "# It is defined by the kaggle/python docker image: https://github.com/kaggle/docker-python\n",
    "# For example, here's several helpful packages to load in \n",
    "\n",
    "import numpy as np # linear algebra\n",
    "import pandas as pd # data processing, CSV file I/O (e.g. pd.read_csv)\n",
    "\n",
    "# Input data files are available in the \"../input/\" directory.\n",
    "# For example, running this (by clicking run or pressing Shift+Enter) will list all files under the input directory\n",
    "\n",
    "import os\n",
    "for dirname, _, filenames in os.walk('/kaggle/input'):\n",
    "    for filename in filenames:\n",
    "        print(os.path.join(dirname, filename))\n",
    "\n",
    "# Any results you write to the current directory are saved as output."
   ]
  },
  {
   "cell_type": "markdown",
   "metadata": {},
   "source": [
    "# Table of Content:\n",
    "\n",
    "[1. Introduction](#1)\n",
    "\n",
    "[2. Data Overview](#2)\n",
    "\n",
    "[3. Basic Model Fitting](#3)\n",
    "* [3.1 Model evaluation](#3.1) \n",
    "\n",
    "[4. Models With Resampling](#4)\n",
    "* [4.1 Downsample](#4.1)\n",
    "* [4.2 Upsample](#4.2)\n",
    "* [4.3 Class weight for Random Forest (Manually)](#4.3)\n",
    "    * [4.31 Balanced Class for RF and DecisionTree](#4.31)    \n",
    "* [4.4 Smote](#4.4)\n",
    "\n",
    "[5. Precision vs. Recall curve](#5)\n",
    "\n",
    "[6. Final Test](#6)"
   ]
  },
  {
   "cell_type": "markdown",
   "metadata": {},
   "source": [
    "<a id=\"1\"></a>\n",
    "# 1. Introduction"
   ]
  },
  {
   "cell_type": "markdown",
   "metadata": {},
   "source": [
    "### Goal: the pros and cons of different techniques for handling inbalanced dataset\n",
    "\n",
    "### Variables: \n",
    "* Churn: 1 if customer cancelled service, 0 if not\n",
    "* AccountWeeks: number of weeks customer has had active account\n",
    "* ContractRenewal: 1 if customer recently renewed contract, 0 if not\n",
    "* DataPlan: 1 if customer has data plan, 0 if not\n",
    "* DataUsage: gigabytes of monthly data usage\n",
    "* CustServCalls: number of calls into customer service\n",
    "* DayMins: average daytime minutes per month\n",
    "* DayCalls: average number of daytime calls\n",
    "* MonthlyCharge: average monthly bill\n",
    "* OverageFee: largest overage fee in last 12 months\n",
    "* RoamMins: average number of roaming minutes"
   ]
  },
  {
   "cell_type": "markdown",
   "metadata": {},
   "source": [
    "<a id=\"2\"></a>\n",
    "# 2. Data Overview"
   ]
  },
  {
   "cell_type": "code",
   "execution_count": 2,
   "metadata": {
    "_cell_guid": "79c7e3d0-c299-4dcb-8224-4455121ee9b0",
    "_uuid": "d629ff2d2480ee46fbb7e2d37f6b5fab8052498a"
   },
   "outputs": [
    {
     "ename": "FileNotFoundError",
     "evalue": "[Errno 2] File /kaggle/input/telecom-churn/telecom_churn.csv does not exist: '/kaggle/input/telecom-churn/telecom_churn.csv'",
     "output_type": "error",
     "traceback": [
      "\u001b[0;31m---------------------------------------------------------------------------\u001b[0m",
      "\u001b[0;31mFileNotFoundError\u001b[0m                         Traceback (most recent call last)",
      "\u001b[0;32m<ipython-input-2-748a53371bb3>\u001b[0m in \u001b[0;36m<module>\u001b[0;34m\u001b[0m\n\u001b[1;32m      1\u001b[0m \u001b[0;31m#Load the data\u001b[0m\u001b[0;34m\u001b[0m\u001b[0;34m\u001b[0m\u001b[0;34m\u001b[0m\u001b[0m\n\u001b[0;32m----> 2\u001b[0;31m \u001b[0mdf\u001b[0m \u001b[0;34m=\u001b[0m \u001b[0mpd\u001b[0m\u001b[0;34m.\u001b[0m\u001b[0mread_csv\u001b[0m\u001b[0;34m(\u001b[0m\u001b[0;34m\"/kaggle/input/telecom-churn/telecom_churn.csv\"\u001b[0m\u001b[0;34m)\u001b[0m\u001b[0;34m\u001b[0m\u001b[0;34m\u001b[0m\u001b[0m\n\u001b[0m\u001b[1;32m      3\u001b[0m \u001b[0mdf\u001b[0m\u001b[0;34m.\u001b[0m\u001b[0msample\u001b[0m\u001b[0;34m(\u001b[0m\u001b[0;36m5\u001b[0m\u001b[0;34m)\u001b[0m\u001b[0;34m\u001b[0m\u001b[0;34m\u001b[0m\u001b[0m\n",
      "\u001b[0;32m/Library/Frameworks/Python.framework/Versions/3.8/lib/python3.8/site-packages/pandas/io/parsers.py\u001b[0m in \u001b[0;36mparser_f\u001b[0;34m(filepath_or_buffer, sep, delimiter, header, names, index_col, usecols, squeeze, prefix, mangle_dupe_cols, dtype, engine, converters, true_values, false_values, skipinitialspace, skiprows, skipfooter, nrows, na_values, keep_default_na, na_filter, verbose, skip_blank_lines, parse_dates, infer_datetime_format, keep_date_col, date_parser, dayfirst, cache_dates, iterator, chunksize, compression, thousands, decimal, lineterminator, quotechar, quoting, doublequote, escapechar, comment, encoding, dialect, error_bad_lines, warn_bad_lines, delim_whitespace, low_memory, memory_map, float_precision)\u001b[0m\n\u001b[1;32m    674\u001b[0m         )\n\u001b[1;32m    675\u001b[0m \u001b[0;34m\u001b[0m\u001b[0m\n\u001b[0;32m--> 676\u001b[0;31m         \u001b[0;32mreturn\u001b[0m \u001b[0m_read\u001b[0m\u001b[0;34m(\u001b[0m\u001b[0mfilepath_or_buffer\u001b[0m\u001b[0;34m,\u001b[0m \u001b[0mkwds\u001b[0m\u001b[0;34m)\u001b[0m\u001b[0;34m\u001b[0m\u001b[0;34m\u001b[0m\u001b[0m\n\u001b[0m\u001b[1;32m    677\u001b[0m \u001b[0;34m\u001b[0m\u001b[0m\n\u001b[1;32m    678\u001b[0m     \u001b[0mparser_f\u001b[0m\u001b[0;34m.\u001b[0m\u001b[0m__name__\u001b[0m \u001b[0;34m=\u001b[0m \u001b[0mname\u001b[0m\u001b[0;34m\u001b[0m\u001b[0;34m\u001b[0m\u001b[0m\n",
      "\u001b[0;32m/Library/Frameworks/Python.framework/Versions/3.8/lib/python3.8/site-packages/pandas/io/parsers.py\u001b[0m in \u001b[0;36m_read\u001b[0;34m(filepath_or_buffer, kwds)\u001b[0m\n\u001b[1;32m    446\u001b[0m \u001b[0;34m\u001b[0m\u001b[0m\n\u001b[1;32m    447\u001b[0m     \u001b[0;31m# Create the parser.\u001b[0m\u001b[0;34m\u001b[0m\u001b[0;34m\u001b[0m\u001b[0;34m\u001b[0m\u001b[0m\n\u001b[0;32m--> 448\u001b[0;31m     \u001b[0mparser\u001b[0m \u001b[0;34m=\u001b[0m \u001b[0mTextFileReader\u001b[0m\u001b[0;34m(\u001b[0m\u001b[0mfp_or_buf\u001b[0m\u001b[0;34m,\u001b[0m \u001b[0;34m**\u001b[0m\u001b[0mkwds\u001b[0m\u001b[0;34m)\u001b[0m\u001b[0;34m\u001b[0m\u001b[0;34m\u001b[0m\u001b[0m\n\u001b[0m\u001b[1;32m    449\u001b[0m \u001b[0;34m\u001b[0m\u001b[0m\n\u001b[1;32m    450\u001b[0m     \u001b[0;32mif\u001b[0m \u001b[0mchunksize\u001b[0m \u001b[0;32mor\u001b[0m \u001b[0miterator\u001b[0m\u001b[0;34m:\u001b[0m\u001b[0;34m\u001b[0m\u001b[0;34m\u001b[0m\u001b[0m\n",
      "\u001b[0;32m/Library/Frameworks/Python.framework/Versions/3.8/lib/python3.8/site-packages/pandas/io/parsers.py\u001b[0m in \u001b[0;36m__init__\u001b[0;34m(self, f, engine, **kwds)\u001b[0m\n\u001b[1;32m    878\u001b[0m             \u001b[0mself\u001b[0m\u001b[0;34m.\u001b[0m\u001b[0moptions\u001b[0m\u001b[0;34m[\u001b[0m\u001b[0;34m\"has_index_names\"\u001b[0m\u001b[0;34m]\u001b[0m \u001b[0;34m=\u001b[0m \u001b[0mkwds\u001b[0m\u001b[0;34m[\u001b[0m\u001b[0;34m\"has_index_names\"\u001b[0m\u001b[0;34m]\u001b[0m\u001b[0;34m\u001b[0m\u001b[0;34m\u001b[0m\u001b[0m\n\u001b[1;32m    879\u001b[0m \u001b[0;34m\u001b[0m\u001b[0m\n\u001b[0;32m--> 880\u001b[0;31m         \u001b[0mself\u001b[0m\u001b[0;34m.\u001b[0m\u001b[0m_make_engine\u001b[0m\u001b[0;34m(\u001b[0m\u001b[0mself\u001b[0m\u001b[0;34m.\u001b[0m\u001b[0mengine\u001b[0m\u001b[0;34m)\u001b[0m\u001b[0;34m\u001b[0m\u001b[0;34m\u001b[0m\u001b[0m\n\u001b[0m\u001b[1;32m    881\u001b[0m \u001b[0;34m\u001b[0m\u001b[0m\n\u001b[1;32m    882\u001b[0m     \u001b[0;32mdef\u001b[0m \u001b[0mclose\u001b[0m\u001b[0;34m(\u001b[0m\u001b[0mself\u001b[0m\u001b[0;34m)\u001b[0m\u001b[0;34m:\u001b[0m\u001b[0;34m\u001b[0m\u001b[0;34m\u001b[0m\u001b[0m\n",
      "\u001b[0;32m/Library/Frameworks/Python.framework/Versions/3.8/lib/python3.8/site-packages/pandas/io/parsers.py\u001b[0m in \u001b[0;36m_make_engine\u001b[0;34m(self, engine)\u001b[0m\n\u001b[1;32m   1112\u001b[0m     \u001b[0;32mdef\u001b[0m \u001b[0m_make_engine\u001b[0m\u001b[0;34m(\u001b[0m\u001b[0mself\u001b[0m\u001b[0;34m,\u001b[0m \u001b[0mengine\u001b[0m\u001b[0;34m=\u001b[0m\u001b[0;34m\"c\"\u001b[0m\u001b[0;34m)\u001b[0m\u001b[0;34m:\u001b[0m\u001b[0;34m\u001b[0m\u001b[0;34m\u001b[0m\u001b[0m\n\u001b[1;32m   1113\u001b[0m         \u001b[0;32mif\u001b[0m \u001b[0mengine\u001b[0m \u001b[0;34m==\u001b[0m \u001b[0;34m\"c\"\u001b[0m\u001b[0;34m:\u001b[0m\u001b[0;34m\u001b[0m\u001b[0;34m\u001b[0m\u001b[0m\n\u001b[0;32m-> 1114\u001b[0;31m             \u001b[0mself\u001b[0m\u001b[0;34m.\u001b[0m\u001b[0m_engine\u001b[0m \u001b[0;34m=\u001b[0m \u001b[0mCParserWrapper\u001b[0m\u001b[0;34m(\u001b[0m\u001b[0mself\u001b[0m\u001b[0;34m.\u001b[0m\u001b[0mf\u001b[0m\u001b[0;34m,\u001b[0m \u001b[0;34m**\u001b[0m\u001b[0mself\u001b[0m\u001b[0;34m.\u001b[0m\u001b[0moptions\u001b[0m\u001b[0;34m)\u001b[0m\u001b[0;34m\u001b[0m\u001b[0;34m\u001b[0m\u001b[0m\n\u001b[0m\u001b[1;32m   1115\u001b[0m         \u001b[0;32melse\u001b[0m\u001b[0;34m:\u001b[0m\u001b[0;34m\u001b[0m\u001b[0;34m\u001b[0m\u001b[0m\n\u001b[1;32m   1116\u001b[0m             \u001b[0;32mif\u001b[0m \u001b[0mengine\u001b[0m \u001b[0;34m==\u001b[0m \u001b[0;34m\"python\"\u001b[0m\u001b[0;34m:\u001b[0m\u001b[0;34m\u001b[0m\u001b[0;34m\u001b[0m\u001b[0m\n",
      "\u001b[0;32m/Library/Frameworks/Python.framework/Versions/3.8/lib/python3.8/site-packages/pandas/io/parsers.py\u001b[0m in \u001b[0;36m__init__\u001b[0;34m(self, src, **kwds)\u001b[0m\n\u001b[1;32m   1889\u001b[0m         \u001b[0mkwds\u001b[0m\u001b[0;34m[\u001b[0m\u001b[0;34m\"usecols\"\u001b[0m\u001b[0;34m]\u001b[0m \u001b[0;34m=\u001b[0m \u001b[0mself\u001b[0m\u001b[0;34m.\u001b[0m\u001b[0musecols\u001b[0m\u001b[0;34m\u001b[0m\u001b[0;34m\u001b[0m\u001b[0m\n\u001b[1;32m   1890\u001b[0m \u001b[0;34m\u001b[0m\u001b[0m\n\u001b[0;32m-> 1891\u001b[0;31m         \u001b[0mself\u001b[0m\u001b[0;34m.\u001b[0m\u001b[0m_reader\u001b[0m \u001b[0;34m=\u001b[0m \u001b[0mparsers\u001b[0m\u001b[0;34m.\u001b[0m\u001b[0mTextReader\u001b[0m\u001b[0;34m(\u001b[0m\u001b[0msrc\u001b[0m\u001b[0;34m,\u001b[0m \u001b[0;34m**\u001b[0m\u001b[0mkwds\u001b[0m\u001b[0;34m)\u001b[0m\u001b[0;34m\u001b[0m\u001b[0;34m\u001b[0m\u001b[0m\n\u001b[0m\u001b[1;32m   1892\u001b[0m         \u001b[0mself\u001b[0m\u001b[0;34m.\u001b[0m\u001b[0munnamed_cols\u001b[0m \u001b[0;34m=\u001b[0m \u001b[0mself\u001b[0m\u001b[0;34m.\u001b[0m\u001b[0m_reader\u001b[0m\u001b[0;34m.\u001b[0m\u001b[0munnamed_cols\u001b[0m\u001b[0;34m\u001b[0m\u001b[0;34m\u001b[0m\u001b[0m\n\u001b[1;32m   1893\u001b[0m \u001b[0;34m\u001b[0m\u001b[0m\n",
      "\u001b[0;32mpandas/_libs/parsers.pyx\u001b[0m in \u001b[0;36mpandas._libs.parsers.TextReader.__cinit__\u001b[0;34m()\u001b[0m\n",
      "\u001b[0;32mpandas/_libs/parsers.pyx\u001b[0m in \u001b[0;36mpandas._libs.parsers.TextReader._setup_parser_source\u001b[0;34m()\u001b[0m\n",
      "\u001b[0;31mFileNotFoundError\u001b[0m: [Errno 2] File /kaggle/input/telecom-churn/telecom_churn.csv does not exist: '/kaggle/input/telecom-churn/telecom_churn.csv'"
     ]
    }
   ],
   "source": [
    "#Load the data\n",
    "df = pd.read_csv(\"/kaggle/input/telecom-churn/telecom_churn.csv\")\n",
    "df.sample(5)"
   ]
  },
  {
   "cell_type": "code",
   "execution_count": 4,
   "metadata": {},
   "outputs": [
    {
     "name": "stdout",
     "output_type": "stream",
     "text": [
      "<class 'pandas.core.frame.DataFrame'>\n",
      "RangeIndex: 3333 entries, 0 to 3332\n",
      "Data columns (total 11 columns):\n",
      "Churn              3333 non-null int64\n",
      "AccountWeeks       3333 non-null int64\n",
      "ContractRenewal    3333 non-null int64\n",
      "DataPlan           3333 non-null int64\n",
      "DataUsage          3333 non-null float64\n",
      "CustServCalls      3333 non-null int64\n",
      "DayMins            3333 non-null float64\n",
      "DayCalls           3333 non-null int64\n",
      "MonthlyCharge      3333 non-null float64\n",
      "OverageFee         3333 non-null float64\n",
      "RoamMins           3333 non-null float64\n",
      "dtypes: float64(5), int64(6)\n",
      "memory usage: 286.6 KB\n"
     ]
    }
   ],
   "source": [
    "#check missing values\n",
    "df.info()"
   ]
  },
  {
   "cell_type": "markdown",
   "metadata": {},
   "source": [
    "- No missing Data - Great!\n",
    "- No Categorical variables - Great!\n",
    "\n",
    "Ambigious varaible: Customer Service Call \n",
    "1. I wonder if the customer service call is the average numbers of call/month, or the most recent month's call or the total amount of calls that customer have made. \n",
    "2. We don't have any ideas on when the calls were made. 5 recent customers service calls can be an indicator to predict the churn, while 5 customer service calls that were made a year ago will not be an indicator\n"
   ]
  },
  {
   "cell_type": "markdown",
   "metadata": {},
   "source": [
    "### Baseline Churn"
   ]
  },
  {
   "cell_type": "code",
   "execution_count": 5,
   "metadata": {},
   "outputs": [],
   "source": [
    "import matplotlib.pyplot as plt\n",
    "%matplotlib inline\n",
    "import seaborn as sns\n",
    "import math"
   ]
  },
  {
   "cell_type": "code",
   "execution_count": 6,
   "metadata": {},
   "outputs": [
    {
     "data": {
      "image/png": "[encoded data removed]",
      "text/plain": [
       "<Figure size 576x432 with 1 Axes>"
      ]
     },
     "metadata": {},
     "output_type": "display_data"
    }
   ],
   "source": [
    "#default churn rate\n",
    "labels = 'Churn', \"Stay\"\n",
    "sizes = [df.Churn[df['Churn'] == 1].count(), df.Churn[df['Churn'] == 0].count()]\n",
    "explode = (0.1, 0)\n",
    "\n",
    "fig1, ax1 = plt.subplots(figsize=(8, 6))\n",
    "ax1.pie(sizes, explode=explode, labels=labels, autopct='%1.1f%%', shadow=True)\n",
    "ax1.axis('equal')\n",
    "\n",
    "plt.title(\"Proportion of customer churned and retained\")\n",
    "\n",
    "plt.show()"
   ]
  },
  {
   "cell_type": "markdown",
   "metadata": {},
   "source": [
    "<a id=\"3\"></a>\n",
    "# 3. Model fitting with original data"
   ]
  },
  {
   "cell_type": "code",
   "execution_count": 7,
   "metadata": {},
   "outputs": [],
   "source": [
    "from sklearn.model_selection import train_test_split, GridSearchCV, StratifiedKFold\n",
    "from sklearn.model_selection import cross_val_score\n",
    "\n",
    "from sklearn.dummy import DummyClassifier\n",
    "from sklearn.tree import DecisionTreeClassifier\n",
    "from sklearn.ensemble import RandomForestClassifier\n",
    "from sklearn.ensemble import GradientBoostingClassifier\n",
    "from xgboost import XGBClassifier\n",
    "\n",
    "from sklearn.metrics import accuracy_score, confusion_matrix, classification_report\n",
    "from sklearn.metrics import precision_recall_curve, auc, roc_curve"
   ]
  },
  {
   "cell_type": "code",
   "execution_count": 8,
   "metadata": {},
   "outputs": [],
   "source": [
    "#dat preperation\n",
    "label = df[\"Churn\"]\n",
    "df_train1 = df.iloc[:, 1:].copy()\n",
    "feature_names = list(df_train1.columns.values)\n",
    "\n",
    "#I seperate the data into train, valiation and test. We will reserve the test set till the end to test the performance of the best model.\n",
    "\n",
    "#set, testset\n",
    "X_trainval, X_test, y_trainval, y_test = train_test_split(df_train1, label, test_size = 0.2, random_state=1)\n",
    "#train, validation set split\n",
    "X_train, X_val, y_train, y_val = train_test_split(X_trainval, y_trainval, test_size = 0.2, random_state=1)"
   ]
  },
  {
   "cell_type": "markdown",
   "metadata": {},
   "source": [
    "### Baseline Model"
   ]
  },
  {
   "cell_type": "code",
   "execution_count": 9,
   "metadata": {},
   "outputs": [
    {
     "name": "stdout",
     "output_type": "stream",
     "text": [
      "randomly guessing score: 0.73\n",
      "guess all customers will stay score: 0.85\n"
     ]
    },
    {
     "name": "stderr",
     "output_type": "stream",
     "text": [
      "/opt/conda/lib/python3.6/site-packages/sklearn/dummy.py:132: FutureWarning: The default value of strategy will change from stratified to prior in 0.24.\n",
      "  \"stratified to prior in 0.24.\", FutureWarning)\n"
     ]
    }
   ],
   "source": [
    "#dummy model\n",
    "dummy1 = DummyClassifier(random_state=1).fit(X_train, y_train)\n",
    "pred_dummy1 = dummy1.predict(X_val)\n",
    "print(\"randomly guessing score: {:.2f}\".format(dummy1.score(X_val,y_val)))\n",
    "dummy2 = DummyClassifier(strategy = 'most_frequent').fit(X_train, y_train)\n",
    "pred_dummy2 = dummy2.predict(X_val)\n",
    "print(\"guess all customers will stay score: {:.2f}\".format(dummy2.score(X_val,y_val)))"
   ]
  },
  {
   "cell_type": "markdown",
   "metadata": {},
   "source": [
    "### Different Tree models"
   ]
  },
  {
   "cell_type": "code",
   "execution_count": 10,
   "metadata": {},
   "outputs": [
    {
     "name": "stdout",
     "output_type": "stream",
     "text": [
      "Decision Tree validation score: 0.90\n",
      "Decision Tree cross-validation score: 0.89\n",
      "Decision Tree validation score after tune: 0.92\n",
      "Decision Tree cross-validation score (tune): 0.92\n"
     ]
    }
   ],
   "source": [
    "#tree model\n",
    "tree = DecisionTreeClassifier(random_state=1).fit(X_train, y_train)\n",
    "print(\"Decision Tree validation score: {:.2f}\".format(tree.score(X_val, y_val)))\n",
    "tree_crossval = cross_val_score(tree, X_trainval, y_trainval)\n",
    "print(\"Decision Tree cross-validation score: {:.2f}\".format(tree_crossval.mean()))\n",
    "\n",
    "#tree model with simple tune\n",
    "tree_tune = DecisionTreeClassifier(random_state=1, max_depth = 6).fit(X_train, y_train)\n",
    "#I picked 6 by just trying out different numbers. We can also use GridSearchCV to select the best parameters but I am a bit lazy to do so. \n",
    "print(\"Decision Tree validation score after tune: {:.2f}\".format(tree_tune.score(X_val, y_val)))\n",
    "pred_tree = tree.predict(X_val)\n",
    "tree_crossval_tune = cross_val_score(tree_tune, X_trainval, y_trainval)\n",
    "print(\"Decision Tree cross-validation score (tune): {:.2f}\".format(tree_crossval_tune.mean()))"
   ]
  },
  {
   "cell_type": "code",
   "execution_count": 11,
   "metadata": {},
   "outputs": [
    {
     "name": "stdout",
     "output_type": "stream",
     "text": [
      "With original dataset\n",
      "Decision Tree (max_depth 6) validation score: 0.92\n",
      "Decision Tree (max_depth 6) cross-validation score max_depth 6: 0.92\n",
      "\n",
      "Random Forest (max_depth 8) validation score: 0.93\n",
      "Random Forest (max_depth 8) cross-validation score: 0.94\n",
      "\n",
      "Gradient Boosting validation score: 0.93\n",
      "Grandient Boosting cross-validation score: 0.93\n",
      "\n",
      "XGBoost validation score: 0.92\n",
      "XGBoost cross-validation score: 0.93\n"
     ]
    }
   ],
   "source": [
    "print(\"With original dataset\")\n",
    "#tree model with simple tune\n",
    "tree_tune = DecisionTreeClassifier(random_state=1, max_depth = 6).fit(X_train, y_train)\n",
    "#I picked 6 by just trying out different numbers. We can also use GridSearchCV to select the best parameters but I am a bit lazy to do so. \n",
    "print(\"Decision Tree (max_depth 6) validation score: {:.2f}\".format(tree_tune.score(X_val, y_val)))\n",
    "pred_tree = tree.predict(X_val)\n",
    "tree_crossval_tune = cross_val_score(tree_tune, X_trainval, y_trainval)\n",
    "print(\"Decision Tree (max_depth 6) cross-validation score max_depth 6: {:.2f}\".format(tree_crossval_tune.mean()))\n",
    "\n",
    "#random forest model\n",
    "forest = RandomForestClassifier(random_state=1, max_depth=8).fit(X_train, y_train)\n",
    "pred_forest = forest.predict(X_val)\n",
    "print(\"\\nRandom Forest (max_depth 8) validation score: {:.2f}\".format(forest.score(X_val, y_val)))\n",
    "forest_crossval = cross_val_score(forest, X_trainval, y_trainval)\n",
    "print(\"Random Forest (max_depth 8) cross-validation score: {:.2f}\".format(forest_crossval.mean()))\n",
    "\n",
    "#Gradient Boosting model\n",
    "gradient = GradientBoostingClassifier(random_state=1).fit(X_train, y_train)\n",
    "pred_gradient = gradient.predict(X_val)\n",
    "#print(\"Gradient Boosting train score: {:.2f}\".format(gradient.score(X_train, y_train)))\n",
    "print(\"\\nGradient Boosting validation score: {:.2f}\".format(gradient.score(X_val, y_val)))\n",
    "gradient_crossval = cross_val_score(gradient, X_trainval, y_trainval)\n",
    "print(\"Grandient Boosting cross-validation score: {:.2f}\".format(gradient_crossval.mean()))\n",
    "\n",
    "#XG bossting model\n",
    "xg = XGBClassifier().fit(X_train, y_train)\n",
    "pred_xg = xg.predict(X_val)\n",
    "#print(\"XGBoost train score: {:.2f}\".format(xg.score(X_train, y_train)))\n",
    "print(\"\\nXGBoost validation score: {:.2f}\".format(xg.score(X_val, y_val)))\n",
    "xg_crossval = cross_val_score(xg, X_trainval, y_trainval)\n",
    "print(\"XGBoost cross-validation score: {:.2f}\".format(xg_crossval.mean()))"
   ]
  },
  {
   "cell_type": "markdown",
   "metadata": {},
   "source": [
    "<a id=\"3.1\"></a>\n",
    "# 3.1 Basic model Evaluation"
   ]
  },
  {
   "cell_type": "code",
   "execution_count": 12,
   "metadata": {},
   "outputs": [
    {
     "name": "stdout",
     "output_type": "stream",
     "text": [
      "With original dataset\n",
      "confusion matrix for dummy model:\n",
      "[[452   0]\n",
      " [ 82   0]]\n",
      "confusion matrix for decision tree (max_depth 6):\n",
      "[[428  24]\n",
      " [ 32  50]]\n",
      "confusion matrix for random forest (max_depth 8):\n",
      "[[445   7]\n",
      " [ 30  52]]\n",
      "confusion matrix for gradient boost:\n",
      "[[444   8]\n",
      " [ 28  54]]\n",
      "confusion matrix for xg boosting:\n",
      "[[438  14]\n",
      " [ 29  53]]\n"
     ]
    }
   ],
   "source": [
    "print(\"With original dataset\")\n",
    "#confusion matrix for dummy\n",
    "confusion_dummy = confusion_matrix(y_val, pred_dummy2)\n",
    "print(\"confusion matrix for dummy model:\\n{}\".format(confusion_dummy))\n",
    "\n",
    "#confusion matrix for trees \n",
    "confusion_tree=confusion_matrix(y_val, pred_tree)\n",
    "print(\"confusion matrix for decision tree (max_depth 6):\\n{}\".format(confusion_tree))\n",
    "\n",
    "confusion_forest=confusion_matrix(y_val, pred_forest)\n",
    "print(\"confusion matrix for random forest (max_depth 8):\\n{}\".format(confusion_forest))\n",
    "\n",
    "confusion_gradient=confusion_matrix(y_val, pred_gradient)\n",
    "print(\"confusion matrix for gradient boost:\\n{}\".format(confusion_gradient))\n",
    "\n",
    "confusion_xg=confusion_matrix(y_val, pred_xg)\n",
    "print(\"confusion matrix for xg boosting:\\n{}\".format(confusion_xg))"
   ]
  },
  {
   "cell_type": "markdown",
   "metadata": {},
   "source": [
    "Based on the confusion matrix, the our RF model makes more False Negative mistakes, which means customers will churn but the model says it will stay. It is because we have so many \"Stay\" in the sample that the model is focusing on getting the \"Stay\" class right, not the \"Churn\" class. We will need to rebalance the dataset. "
   ]
  },
  {
   "cell_type": "code",
   "execution_count": 13,
   "metadata": {},
   "outputs": [
    {
     "name": "stdout",
     "output_type": "stream",
     "text": [
      "dummy classificatoin report\n",
      "\n",
      "              precision    recall  f1-score   support\n",
      "\n",
      "        Stay       0.85      1.00      0.92       452\n",
      "       Churn       0.00      0.00      0.00        82\n",
      "\n",
      "    accuracy                           0.85       534\n",
      "   macro avg       0.42      0.50      0.46       534\n",
      "weighted avg       0.72      0.85      0.78       534\n",
      "\n",
      "\n",
      "random forest classification report\n",
      "\n",
      "              precision    recall  f1-score   support\n",
      "\n",
      "        Stay       0.94      0.98      0.96       452\n",
      "       Churn       0.88      0.63      0.74        82\n",
      "\n",
      "    accuracy                           0.93       534\n",
      "   macro avg       0.91      0.81      0.85       534\n",
      "weighted avg       0.93      0.93      0.93       534\n",
      "\n"
     ]
    },
    {
     "name": "stderr",
     "output_type": "stream",
     "text": [
      "/opt/conda/lib/python3.6/site-packages/sklearn/metrics/_classification.py:1272: UndefinedMetricWarning: Precision and F-score are ill-defined and being set to 0.0 in labels with no predicted samples. Use `zero_division` parameter to control this behavior.\n",
      "  _warn_prf(average, modifier, msg_start, len(result))\n"
     ]
    }
   ],
   "source": [
    "#classification_report\n",
    "#dummy\n",
    "print(\"dummy classificatoin report\\n\")\n",
    "print(classification_report(y_val, pred_dummy2, target_names = [\"Stay\", \"Churn\"]))\n",
    "print(\"\\nrandom forest classification report\\n\")\n",
    "print(classification_report(y_val, pred_forest, target_names = [\"Stay\", \"Churn\"]))"
   ]
  },
  {
   "cell_type": "markdown",
   "metadata": {},
   "source": [
    "From the classification report aboved, the difference between the model's ability to predict \"Stay\" vs. to predict \"Churn is even more obvious. Here are some reminders what \"precision\" and \"recall\" are:\n",
    "* Precision: True Positive / (True Positive + False Positive). Let's translate to Englis and let's use the example of \"Churn\", which is 0.88. It means: The times the model rightly predicted customers will churn / (rightly predict churn + predict churn but the client stay) is 88% \n",
    "* Recall: True Positive / (True Positive + False Negative). Let's translate to Englis and let's use the example of \"Churn\", which is 0.63. It means: The times the model rightly predicted customers will churn / (rightly predict churn + predict stay but the client churn) is 63% "
   ]
  },
  {
   "cell_type": "markdown",
   "metadata": {},
   "source": [
    "<a id=\"4\"></a>\n",
    "# 4. Models With Resamplings"
   ]
  },
  {
   "cell_type": "markdown",
   "metadata": {},
   "source": [
    "<a id=\"4.1\"></a>\n",
    "### 4.1 Downsample"
   ]
  },
  {
   "cell_type": "code",
   "execution_count": 14,
   "metadata": {},
   "outputs": [],
   "source": [
    "from sklearn.utils import resample"
   ]
  },
  {
   "cell_type": "code",
   "execution_count": 15,
   "metadata": {},
   "outputs": [
    {
     "name": "stdout",
     "output_type": "stream",
     "text": [
      "The minority sample size is: 483\n"
     ]
    },
    {
     "data": {
      "text/plain": [
       "1    483\n",
       "0    483\n",
       "Name: Churn, dtype: int64"
      ]
     },
     "execution_count": 15,
     "metadata": {},
     "output_type": "execute_result"
    }
   ],
   "source": [
    "# Separate majority and minority classes\n",
    "df_maj = df[df.Churn==0]\n",
    "df_min = df[df.Churn==1]\n",
    "\n",
    "print(\"The minority sample size is: {}\".format(len(df_min))) #483\n",
    "\n",
    "# Downsample majority class\n",
    "df_maj_ds = resample(df_maj, replace=False,    # sample without replacement\n",
    "                             n_samples=483,     # to match minority class\n",
    "                             random_state=1) # reproducible results\n",
    "# Combine minority class with downsampled majority class\n",
    "df_ds = pd.concat([df_maj_ds, df_min])\n",
    " \n",
    "# Display new class counts\n",
    "df_ds.Churn.value_counts()\n"
   ]
  },
  {
   "cell_type": "code",
   "execution_count": 16,
   "metadata": {},
   "outputs": [],
   "source": [
    "#dat preperation\n",
    "label2 = df_ds[\"Churn\"]\n",
    "df_ds_train = df_ds.iloc[:, 1:].copy()\n",
    "feature_names2 = list(df_ds_train.columns.values)\n",
    "#set, testset split\n",
    "Xds_train, Xds_val, yds_train, yds_val = train_test_split(df_ds_train, label2, test_size = 0.2, random_state=1)"
   ]
  },
  {
   "cell_type": "code",
   "execution_count": 17,
   "metadata": {},
   "outputs": [
    {
     "name": "stdout",
     "output_type": "stream",
     "text": [
      "Downsampling\n",
      "Tree (max_depth 4) validation score: 0.84\n",
      "Tree (max_depth 4) cross-validation score after ds: 0.90\n",
      "\n",
      "Random Forest validation score: 0.93\n",
      "Random Forest cross-validation score after ds: 0.92\n",
      "\n",
      "Gradient Boosting validation score: 0.91\n",
      "Gradient Boosting cross-validation score after ds: 0.91\n",
      "\n",
      "XG Boosting validation score: 0.89\n",
      "XG Boosting cross-validation score after ds: 0.91\n"
     ]
    }
   ],
   "source": [
    "print(\"Downsampling\")\n",
    "#tree after downsample\n",
    "tree_ds = DecisionTreeClassifier(random_state=1, max_depth = 4).fit(Xds_train, yds_train)\n",
    "print(\"Tree (max_depth 4) validation score: {:.2f}\".format(tree_ds.score(X_val, y_val)))\n",
    "tree_ds_crossval = cross_val_score(tree_ds, X_val, y_val)\n",
    "print(\"Tree (max_depth 4) cross-validation score after ds: {:.2f}\".format(tree_ds_crossval.mean()))\n",
    "\n",
    "#random forest model after downsampled\n",
    "forest_ds = RandomForestClassifier(random_state=1).fit(Xds_train, yds_train)\n",
    "print(\"\\nRandom Forest validation score: {:.2f}\".format(forest_ds.score(X_val, y_val)))\n",
    "forest_ds_crossval = cross_val_score(forest_ds, X_val, y_val)\n",
    "print(\"Random Forest cross-validation score after ds: {:.2f}\".format(forest_ds_crossval.mean()))\n",
    "\n",
    "gradient_ds = GradientBoostingClassifier(random_state=1).fit(Xds_train, yds_train)\n",
    "print(\"\\nGradient Boosting validation score: {:.2f}\".format(gradient_ds.score(X_val, y_val)))\n",
    "gradient_ds_crossval = cross_val_score(gradient_ds, X_val, y_val)\n",
    "print(\"Gradient Boosting cross-validation score after ds: {:.2f}\".format(gradient_ds_crossval.mean()))\n",
    "\n",
    "xg_ds = XGBClassifier(random_state=1).fit(Xds_train, yds_train)\n",
    "print(\"\\nXG Boosting validation score: {:.2f}\".format(xg_ds.score(X_val, y_val)))\n",
    "xg_ds_crossval = cross_val_score(xg_ds, X_val, y_val)\n",
    "print(\"XG Boosting cross-validation score after ds: {:.2f}\".format(xg_ds_crossval.mean()))"
   ]
  },
  {
   "cell_type": "code",
   "execution_count": 18,
   "metadata": {},
   "outputs": [
    {
     "name": "stdout",
     "output_type": "stream",
     "text": [
      "\n",
      "confusion matrix for tree(max_depth 4) after downsampling:\n",
      "[[381  71]\n",
      " [ 12  70]]\n",
      "\n",
      "confusion matrix for random forest after downsampling:\n",
      "[[414  38]\n",
      " [  2  80]]\n",
      "\n",
      "confusion matrix for gradient boosting after downsampling:\n",
      "[[412  40]\n",
      " [  6  76]]\n",
      "\n",
      "confusion matrix for xg boosting after downsampling:\n",
      "[[395  57]\n",
      " [  2  80]]\n"
     ]
    }
   ],
   "source": [
    "#confusion matrix for random forest downsampled\n",
    "pred_tree_ds = tree_ds.predict(X_val)\n",
    "confusion_tree_ds=confusion_matrix(y_val, pred_tree_ds)\n",
    "print(\"\\nconfusion matrix for tree(max_depth 4) after downsampling:\\n{}\".format(confusion_tree_ds))\n",
    "\n",
    "pred_forest_ds = forest_ds.predict(X_val)\n",
    "confusion_forest_ds=confusion_matrix(y_val, pred_forest_ds)\n",
    "print(\"\\nconfusion matrix for random forest after downsampling:\\n{}\".format(confusion_forest_ds))\n",
    "\n",
    "pred_gradient_ds = gradient_ds.predict(X_val)\n",
    "confusion_gradient_ds=confusion_matrix(y_val, pred_gradient_ds)\n",
    "print(\"\\nconfusion matrix for gradient boosting after downsampling:\\n{}\".format(confusion_gradient_ds))\n",
    "\n",
    "pred_xg_ds = xg_ds.predict(X_val)\n",
    "confusion_xg_ds=confusion_matrix(y_val, pred_xg_ds)\n",
    "print(\"\\nconfusion matrix for xg boosting after downsampling:\\n{}\".format(confusion_xg_ds))"
   ]
  },
  {
   "cell_type": "markdown",
   "metadata": {},
   "source": [
    "False positive performance all improved but we also sacrificed for predicting class \"1\" due to the loss of information"
   ]
  },
  {
   "cell_type": "markdown",
   "metadata": {},
   "source": [
    "<a id=\"4.2\"></a>\n",
    "### 4.2 Upsample "
   ]
  },
  {
   "cell_type": "code",
   "execution_count": 19,
   "metadata": {},
   "outputs": [],
   "source": [
    "df_train = X_train.copy()"
   ]
  },
  {
   "cell_type": "code",
   "execution_count": 20,
   "metadata": {},
   "outputs": [],
   "source": [
    "df_train[\"Churn\"] = y_train"
   ]
  },
  {
   "cell_type": "code",
   "execution_count": 21,
   "metadata": {},
   "outputs": [
    {
     "name": "stdout",
     "output_type": "stream",
     "text": [
      "The majority sample size is: 1829\n"
     ]
    },
    {
     "data": {
      "text/plain": [
       "1    1829\n",
       "0    1829\n",
       "Name: Churn, dtype: int64"
      ]
     },
     "execution_count": 21,
     "metadata": {},
     "output_type": "execute_result"
    }
   ],
   "source": [
    "# Separate majority and minority classes\n",
    "df_maj2 = df_train[df_train.Churn==0]\n",
    "df_min2 = df_train[df_train.Churn==1]\n",
    "\n",
    "print(\"The majority sample size is: {}\".format(len(df_maj2))) #1829\n",
    "\n",
    "\n",
    "# Upsample majority class\n",
    "df_min_up = resample(df_min2, replace=True,    # sample without replacement\n",
    "                             n_samples=1829,     # to match minority class\n",
    "                             random_state=1) # reproducible results\n",
    "\n",
    "# Combine minority class with downsampled majority class\n",
    "df_up = pd.concat([df_min_up, df_maj2])\n",
    " \n",
    "# Display new class counts\n",
    "df_up.Churn.value_counts()"
   ]
  },
  {
   "cell_type": "code",
   "execution_count": 22,
   "metadata": {},
   "outputs": [],
   "source": [
    "Xup_train = df_up.iloc[:, :-1].copy()\n",
    "\n",
    "yup_train = df_up[\"Churn\"]"
   ]
  },
  {
   "cell_type": "code",
   "execution_count": 23,
   "metadata": {},
   "outputs": [
    {
     "name": "stdout",
     "output_type": "stream",
     "text": [
      "Tree(max_depth 4) validation score after ups: 0.90\n",
      "Tree(max_depth 4) cross-validation score ups: 0.90\n",
      "\n",
      "Random Forest validation score after ups: 0.93\n",
      "Random Forest cross-validation score after ups: 0.92\n",
      "\n",
      "Gradient Boosting validation score after ups: 0.92\n",
      "Gradient Boosting cross-validation score: 0.91\n",
      "\n",
      "XG Boosting validation score after ups: 0.92\n",
      "XG Boosting cross-validation score: 0.91\n"
     ]
    }
   ],
   "source": [
    "tree_up = DecisionTreeClassifier(random_state=1, max_depth = 4).fit(Xup_train, yup_train)\n",
    "print(\"Tree(max_depth 4) validation score after ups: {:.2f}\".format(tree_up.score(X_val, y_val)))\n",
    "tree_up_crossval = cross_val_score(tree_up, X_val, y_val)\n",
    "print(\"Tree(max_depth 4) cross-validation score ups: {:.2f}\".format(tree_up_crossval.mean()))\n",
    "\n",
    "forest_up = RandomForestClassifier(random_state=1).fit(Xup_train, yup_train)\n",
    "print(\"\\nRandom Forest validation score after ups: {:.2f}\".format(forest_up.score(X_val, y_val)))\n",
    "forest_up_crossval = cross_val_score(forest_up, X_val, y_val)\n",
    "print(\"Random Forest cross-validation score after ups: {:.2f}\".format(forest_up_crossval.mean()))\n",
    "\n",
    "gradient_up = GradientBoostingClassifier(random_state=1).fit(Xup_train, yup_train)\n",
    "print(\"\\nGradient Boosting validation score after ups: {:.2f}\".format(gradient_up.score(X_val, y_val)))\n",
    "gradient_up_crossval = cross_val_score(gradient_up, X_val, y_val)\n",
    "print(\"Gradient Boosting cross-validation score: {:.2f}\".format(gradient_up_crossval.mean()))\n",
    "\n",
    "xg_up = XGBClassifier(random_state=1).fit(Xup_train, yup_train)\n",
    "print(\"\\nXG Boosting validation score after ups: {:.2f}\".format(xg_up.score(X_val, y_val)))\n",
    "xg_up_crossval = cross_val_score(xg_up, X_val, y_val)\n",
    "print(\"XG Boosting cross-validation score: {:.2f}\".format(xg_up_crossval.mean()))\n"
   ]
  },
  {
   "cell_type": "code",
   "execution_count": 24,
   "metadata": {},
   "outputs": [
    {
     "name": "stdout",
     "output_type": "stream",
     "text": [
      "\n",
      "confusion matrix for tree(max_depth 4) after upsamling:\n",
      "[[420  32]\n",
      " [ 21  61]]\n",
      "\n",
      "confusion matrix for random forest after upsamling:\n",
      "[[437  15]\n",
      " [ 22  60]]\n",
      "\n",
      "confusion matrix for gradient after upsamling:\n",
      "[[422  30]\n",
      " [ 14  68]]\n",
      "\n",
      "confusion matrix for xg after upsamling:\n",
      "[[434  18]\n",
      " [ 23  59]]\n"
     ]
    }
   ],
   "source": [
    "pred_tree_up = tree_up.predict(X_val)\n",
    "confusion_tree_up=confusion_matrix(y_val, pred_tree_up)\n",
    "print(\"\\nconfusion matrix for tree(max_depth 4) after upsamling:\\n{}\".format(confusion_tree_up))\n",
    "\n",
    "pred_forest_up = forest_up.predict(X_val)\n",
    "confusion_forest_up=confusion_matrix(y_val, pred_forest_up)\n",
    "print(\"\\nconfusion matrix for random forest after upsamling:\\n{}\".format(confusion_forest_up))\n",
    "\n",
    "pred_gradient_up = gradient_up.predict(X_val)\n",
    "confusion_gradient_up=confusion_matrix(y_val, pred_gradient_up)\n",
    "print(\"\\nconfusion matrix for gradient after upsamling:\\n{}\".format(confusion_gradient_up))\n",
    "\n",
    "pred_xg_up = xg_up.predict(X_val)\n",
    "confusion_xg_up=confusion_matrix(y_val, pred_xg_up)\n",
    "print(\"\\nconfusion matrix for xg after upsamling:\\n{}\".format(confusion_xg_up))"
   ]
  },
  {
   "cell_type": "markdown",
   "metadata": {},
   "source": [
    "By keep copying the data in small sample size, it overfit those data point. That's why for testing, the False Positive rate is still high"
   ]
  },
  {
   "cell_type": "markdown",
   "metadata": {},
   "source": [
    "<a id=\"4.3\"></a>\n",
    "### 4.3 Manually changing the weights for RF"
   ]
  },
  {
   "cell_type": "code",
   "execution_count": 25,
   "metadata": {},
   "outputs": [
    {
     "name": "stdout",
     "output_type": "stream",
     "text": [
      "Random Forest(max_depth 4) validation score after weighted 1:5: 0.93\n",
      "Random Forest(max_depth 4) cross-validation score after weighted 1:5: 0.90\n",
      "\n",
      "confusion matrix for random forest (max_depth 4) after weighted 1:5:\n",
      "[[428  24]\n",
      " [ 12  70]]\n",
      "\n",
      " classification report for weights 1:5\n",
      "              precision    recall  f1-score   support\n",
      "\n",
      "        Stay       0.97      0.95      0.96       452\n",
      "       Churn       0.74      0.85      0.80        82\n",
      "\n",
      "    accuracy                           0.93       534\n",
      "   macro avg       0.86      0.90      0.88       534\n",
      "weighted avg       0.94      0.93      0.93       534\n",
      "\n"
     ]
    }
   ],
   "source": [
    "RF5 = RandomForestClassifier(class_weight={0: 1, 1: 5}, max_depth=4, random_state=1) #change the weight of class 1 to be 5 times bigger\n",
    "rf_weighted = RF5.fit(X_train, y_train)\n",
    "print(\"Random Forest(max_depth 4) validation score after weighted 1:5: {:.2f}\".format(rf_weighted.score(X_val, y_val)))\n",
    "rf_weighted_crossval = cross_val_score(rf_weighted, X_val, y_val)\n",
    "print(\"Random Forest(max_depth 4) cross-validation score after weighted 1:5: {:.2f}\".format(rf_weighted_crossval.mean()))\n",
    "\n",
    "pred_rf_weighted = rf_weighted.predict(X_val)\n",
    "confusion_rf_weighted=confusion_matrix(y_val, pred_rf_weighted)\n",
    "print(\"\\nconfusion matrix for random forest (max_depth 4) after weighted 1:5:\\n{}\".format(confusion_rf_weighted))\n",
    "\n",
    "print(\"\\n classification report for weights 1:5\")\n",
    "print(classification_report(y_val, pred_rf_weighted, target_names = [\"Stay\", \"Churn\"]))"
   ]
  },
  {
   "cell_type": "code",
   "execution_count": 26,
   "metadata": {},
   "outputs": [
    {
     "name": "stdout",
     "output_type": "stream",
     "text": [
      "\n",
      "confusion matrix for random forest(max_depth 4) after weighted 1:50:\n",
      "[[ 14 438]\n",
      " [  0  82]]\n",
      "\n",
      "classification report for weights 1:50\n",
      "              precision    recall  f1-score   support\n",
      "\n",
      "        Stay       1.00      0.03      0.06       452\n",
      "       Churn       0.16      1.00      0.27        82\n",
      "\n",
      "    accuracy                           0.18       534\n",
      "   macro avg       0.58      0.52      0.17       534\n",
      "weighted avg       0.87      0.18      0.09       534\n",
      "\n"
     ]
    }
   ],
   "source": [
    "RF50 = RandomForestClassifier(class_weight={0: 1, 1: 50}, max_depth=4) #change it to be 50 times\n",
    "rf_weighted2 = RF50.fit(X_train, y_train)\n",
    "\n",
    "pred_rf_weighted2 = rf_weighted2.predict(X_val)\n",
    "confusion_rf_weighted2=confusion_matrix(y_val, pred_rf_weighted2)\n",
    "print(\"\\nconfusion matrix for random forest(max_depth 4) after weighted 1:50:\\n{}\".format(confusion_rf_weighted2))\n",
    "\n",
    "print(\"\\nclassification report for weights 1:50\")\n",
    "print(classification_report(y_val, pred_rf_weighted2, target_names = [\"Stay\", \"Churn\"]))"
   ]
  },
  {
   "cell_type": "markdown",
   "metadata": {},
   "source": [
    "<a id=\"4.31\"></a>\n",
    "### 4.3.1 balanced class_weight for RF and Tree"
   ]
  },
  {
   "cell_type": "code",
   "execution_count": 27,
   "metadata": {},
   "outputs": [
    {
     "name": "stdout",
     "output_type": "stream",
     "text": [
      "Random Forest(max_depth 8) validation score after balanced: 0.93\n",
      "Random Forest(max_depth 8) cross-validation score after balanced: 0.91\n",
      "\n",
      "Decision Tree(max_depth 6) validation score after balanced: 0.90\n",
      "Decision Tree(max_depth 6) cross-validation after balanced: 0.90\n"
     ]
    }
   ],
   "source": [
    "RFauto = RandomForestClassifier(class_weight='balanced', random_state = 1, max_depth=8)\n",
    "\n",
    "rf_auto = RFauto.fit(X_train, y_train)\n",
    "print(\"Random Forest(max_depth 8) validation score after balanced: {:.2f}\".format(rf_auto.score(X_val, y_val)))\n",
    "rfauto_crossval = cross_val_score(rf_auto, X_val, y_val)\n",
    "print(\"Random Forest(max_depth 8) cross-validation score after balanced: {:.2f}\".format(rfauto_crossval.mean()))\n",
    "\n",
    "tree_auto = DecisionTreeClassifier(random_state=1, class_weight = 'balanced', max_depth=6).fit(X_train, y_train)\n",
    "print(\"\\nDecision Tree(max_depth 6) validation score after balanced: {:.2f}\".format(tree_auto.score(X_val, y_val)))\n",
    "treeauto_crossval = cross_val_score(tree_auto, X_trainval, y_trainval)\n",
    "print(\"Decision Tree(max_depth 6) cross-validation after balanced: {:.2f}\".format(treeauto_crossval.mean()))"
   ]
  },
  {
   "cell_type": "code",
   "execution_count": 28,
   "metadata": {},
   "outputs": [
    {
     "name": "stdout",
     "output_type": "stream",
     "text": [
      "\n",
      "confusion matrix for random forest(max_depth 8) after balanced:\n",
      "[[436  16]\n",
      " [ 20  62]]\n",
      "\n",
      "confusion matrix for tree(max_depth 6) after balanced classes:\n",
      "[[413  39]\n",
      " [ 17  65]]\n"
     ]
    }
   ],
   "source": [
    "\n",
    "pred_rfauto = rf_auto.predict(X_val)\n",
    "confusion_rfauto=confusion_matrix(y_val, pred_rfauto)\n",
    "print(\"\\nconfusion matrix for random forest(max_depth 8) after balanced:\\n{}\".format(confusion_rfauto))\n",
    "\n",
    "#print(\"\\nclassification report for random forest balanced classes\")\n",
    "#print(classification_report(y_val, pred_rfauto, target_names = [\"Stay\", \"Churn\"]))\n",
    "\n",
    "pred_treeauto = tree_auto.predict(X_val)\n",
    "confusion_treeauto=confusion_matrix(y_val, pred_treeauto)\n",
    "print(\"\\nconfusion matrix for tree(max_depth 6) after balanced classes:\\n{}\".format(confusion_treeauto))"
   ]
  },
  {
   "cell_type": "markdown",
   "metadata": {},
   "source": [
    "<a id=\"4.4\"></a>\n",
    "### 4.4 SMOTE\n"
   ]
  },
  {
   "cell_type": "code",
   "execution_count": 29,
   "metadata": {},
   "outputs": [
    {
     "name": "stderr",
     "output_type": "stream",
     "text": [
      "Using TensorFlow backend.\n"
     ]
    }
   ],
   "source": [
    "from sklearn.preprocessing import StandardScaler\n",
    "from imblearn.over_sampling import SMOTE"
   ]
  },
  {
   "cell_type": "code",
   "execution_count": 30,
   "metadata": {},
   "outputs": [],
   "source": [
    "sm = SMOTE(sampling_strategy='auto', k_neighbors=2, random_state=1)\n",
    "Xsm_train, ysm_train = sm.fit_resample(X_train, y_train)"
   ]
  },
  {
   "cell_type": "code",
   "execution_count": 31,
   "metadata": {},
   "outputs": [
    {
     "name": "stdout",
     "output_type": "stream",
     "text": [
      "Tree(max_depth 5) validation score after smote: 0.90\n",
      "Tree(max_depth 5) cross-validation score after smote: 0.90\n",
      "\n",
      "Random Forest(max_depth 8) validation score after smote: 0.92\n",
      "Random Forest(max_depth 8) cross-validation score after smote: 0.92\n",
      "\n",
      "Gradient Boosting validation score after smote: 0.92\n",
      "Gradient Boosting cross-validation score after smote: 0.91\n",
      "\n",
      "XG Boosting validation score after smote: 0.92\n",
      "XG Boosting cross-validation score after smote: 0.91\n"
     ]
    }
   ],
   "source": [
    "#tree after smote\n",
    "tree_sm = DecisionTreeClassifier(random_state=1, max_depth = 5).fit(Xsm_train, ysm_train)\n",
    "print(\"Tree(max_depth 5) validation score after smote: {:.2f}\".format(tree_up.score(X_val, y_val)))\n",
    "tree_sm_crossval = cross_val_score(tree_sm, X_val, y_val)\n",
    "print(\"Tree(max_depth 5) cross-validation score after smote: {:.2f}\".format(tree_up_crossval.mean()))\n",
    "\n",
    "#random forest model after downsampled\n",
    "forest_sm = RandomForestClassifier(random_state=1, max_depth=8).fit(Xsm_train, ysm_train)\n",
    "print(\"\\nRandom Forest(max_depth 8) validation score after smote: {:.2f}\".format(forest_sm.score(X_val, y_val)))\n",
    "forest_sm_crossval = cross_val_score(forest_sm, X_val, y_val)\n",
    "print(\"Random Forest(max_depth 8) cross-validation score after smote: {:.2f}\".format(forest_sm_crossval.mean()))\n",
    "\n",
    "gradient_sm = GradientBoostingClassifier(random_state=1).fit(Xsm_train, ysm_train)\n",
    "print(\"\\nGradient Boosting validation score after smote: {:.2f}\".format(gradient_up.score(X_val, y_val)))\n",
    "gradient_sm_crossval = cross_val_score(gradient_sm, X_val, y_val)\n",
    "print(\"Gradient Boosting cross-validation score after smote: {:.2f}\".format(gradient_sm_crossval.mean()))\n",
    "\n",
    "xg_sm = XGBClassifier(random_state=1).fit(Xsm_train, ysm_train)\n",
    "print(\"\\nXG Boosting validation score after smote: {:.2f}\".format(xg_sm.score(X_val, y_val)))\n",
    "xg_sm_crossval = cross_val_score(xg_sm, X_val, y_val)\n",
    "print(\"XG Boosting cross-validation score after smote: {:.2f}\".format(xg_sm_crossval.mean()))"
   ]
  },
  {
   "cell_type": "code",
   "execution_count": 32,
   "metadata": {},
   "outputs": [
    {
     "name": "stdout",
     "output_type": "stream",
     "text": [
      "SMOTE\n",
      "\n",
      "confusion matrix for tree(max_depth 5) :\n",
      "[[424  28]\n",
      " [ 12  70]]\n",
      "\n",
      "confusion matrix for forest(max_depth 8) :\n",
      "[[424  28]\n",
      " [ 15  67]]\n",
      "\n",
      "confusion matrix for gradient:\n",
      "[[419  33]\n",
      " [ 14  68]]\n",
      "\n",
      "confusion matrix for xg:\n",
      "[[429  23]\n",
      " [ 22  60]]\n"
     ]
    }
   ],
   "source": [
    "print(\"SMOTE\")\n",
    "pred_tree_sm = tree_sm.predict(X_val)\n",
    "confusion_tree_sm=confusion_matrix(y_val, pred_tree_sm)\n",
    "print(\"\\nconfusion matrix for tree(max_depth 5) :\\n{}\".format(confusion_tree_sm))\n",
    "\n",
    "pred_forest_sm = forest_sm.predict(X_val)\n",
    "confusion_forest_sm=confusion_matrix(y_val, pred_forest_sm)\n",
    "print(\"\\nconfusion matrix for forest(max_depth 8) :\\n{}\".format(confusion_forest_sm))\n",
    "\n",
    "pred_gradient_sm = gradient_sm.predict(X_val)\n",
    "confusion_gradient_sm=confusion_matrix(y_val, pred_gradient_sm)\n",
    "print(\"\\nconfusion matrix for gradient:\\n{}\".format(confusion_gradient_sm))\n",
    "\n",
    "pred_xg_sm = xg_sm.predict(X_val)\n",
    "confusion_xg_sm=confusion_matrix(y_val, pred_xg_sm)\n",
    "print(\"\\nconfusion matrix for xg:\\n{}\".format(confusion_xg_sm))"
   ]
  },
  {
   "cell_type": "markdown",
   "metadata": {},
   "source": [
    "Performance for gradient and xg are very consistent. It's due to how their algorithms were designed. For the other tree methods, you can see the False positive rate improved a lot compare to when we used upsample. "
   ]
  },
  {
   "cell_type": "markdown",
   "metadata": {},
   "source": [
    "<a id=\"5\"></a>\n",
    "# 5. precision vs. recall curve"
   ]
  },
  {
   "cell_type": "code",
   "execution_count": 33,
   "metadata": {},
   "outputs": [
    {
     "data": {
      "text/plain": [
       "<matplotlib.legend.Legend at 0x7f1ccc99cc18>"
      ]
     },
     "execution_count": 33,
     "metadata": {},
     "output_type": "execute_result"
    },
    {
     "data": {
      "image/png": "[encoded data removed]",
      "text/plain": [
       "<Figure size 576x432 with 1 Axes>"
      ]
     },
     "metadata": {
      "needs_background": "light"
     },
     "output_type": "display_data"
    }
   ],
   "source": [
    "fig= plt.subplots(figsize=(8, 6))\n",
    "precision_gd, recall_gd, thresholds_gd = precision_recall_curve(y_val, gradient_sm.predict_proba(X_val)[:, 1])\n",
    "plt.plot(precision_gd, recall_gd, label=\"gd\")\n",
    "\n",
    "close_default_gd = np.argmin(np.abs(thresholds_gd - 0.5))\n",
    "plt.plot(precision_gd[close_default_gd], recall_gd[close_default_gd], '^', c='k', markersize=10, label='threshold 0.5 rf', fillstyle=\"none\", mew=2)\n",
    "plt.xlabel(\"Precision\")\n",
    "plt.ylabel(\"Recall\")\n",
    "plt.legend(loc=\"best\")"
   ]
  },
  {
   "cell_type": "markdown",
   "metadata": {},
   "source": [
    "Looks like we can maintain the same recall rate and improve the overall accuracy with an adjustment of the rate of threshold."
   ]
  },
  {
   "cell_type": "code",
   "execution_count": 34,
   "metadata": {},
   "outputs": [
    {
     "name": "stdout",
     "output_type": "stream",
     "text": [
      "accurcy rate with 0.38 threshold 91.75999999999999%\n",
      "accurcy rate with 0.5 threshold 91.2%\n",
      "confusion matrix with new threshold:\n",
      "[[417  35]\n",
      " [  9  73]]\n",
      "\n",
      "confusion matrix original:\n",
      "[[419  33]\n",
      " [ 14  68]]\n",
      "\n",
      "random forest classification report with adjuested threshold\n",
      "\n",
      "              precision    recall  f1-score   support\n",
      "\n",
      "        Stay       0.98      0.92      0.95       452\n",
      "       Churn       0.68      0.89      0.77        82\n",
      "\n",
      "    accuracy                           0.92       534\n",
      "   macro avg       0.83      0.91      0.86       534\n",
      "weighted avg       0.93      0.92      0.92       534\n",
      "\n"
     ]
    }
   ],
   "source": [
    "threshold = 0.38 #after different trails, this is the best\n",
    "\n",
    "predicted_proba = gradient_sm.predict_proba(X_val)\n",
    "predicted = (predicted_proba [:,1] >= threshold).astype('int')\n",
    "\n",
    "#compare the accuracy scores\n",
    "accuracy_adj = accuracy_score(y_val, predicted)\n",
    "print(\"accurcy rate with 0.38 threshold {}\".format(str(round(accuracy_adj,4,)*100))+\"%\")\n",
    "\n",
    "accuracy = accuracy_score(y_val, pred_gradient_sm)\n",
    "print(\"accurcy rate with 0.5 threshold {}\".format(str(round(accuracy,4,)*100))+\"%\")\n",
    "\n",
    "#confusion matrix compare\n",
    "confusion_gd=confusion_matrix(y_val, predicted)\n",
    "print(\"confusion matrix with new threshold:\\n{}\".format(confusion_gd))\n",
    "\n",
    "pred_gradient_sm = gradient_sm.predict(X_val)\n",
    "confusion_gd_sm=confusion_matrix(y_val, pred_gradient_sm)\n",
    "print(\"\\nconfusion matrix original:\\n{}\".format(confusion_gd_sm))\n",
    "\n",
    "#classification_report\n",
    "print(\"\\nrandom forest classification report with adjuested threshold\\n\")\n",
    "print(classification_report(y_val, predicted, target_names = [\"Stay\", \"Churn\"]))"
   ]
  },
  {
   "cell_type": "code",
   "execution_count": 35,
   "metadata": {},
   "outputs": [
    {
     "data": {
      "text/plain": [
       "<matplotlib.legend.Legend at 0x7f1ccc9d70f0>"
      ]
     },
     "execution_count": 35,
     "metadata": {},
     "output_type": "execute_result"
    },
    {
     "data": {
      "image/png": "[encoded data removed]",
      "text/plain": [
       "<Figure size 576x432 with 1 Axes>"
      ]
     },
     "metadata": {
      "needs_background": "light"
     },
     "output_type": "display_data"
    }
   ],
   "source": [
    "fig= plt.subplots(figsize=(8, 6))\n",
    "precision_gd, recall_gd, thresholds_gd = precision_recall_curve(y_val, gradient_sm.predict_proba(X_val)[:, 1])\n",
    "plt.plot(precision_gd, recall_gd, label=\"gd\")\n",
    "\n",
    "close_default_gd = np.argmin(np.abs(thresholds_gd - 0.4))\n",
    "plt.plot(precision_gd[close_default_gd], recall_gd[close_default_gd], '^', c='k', markersize=10, label='threshold 0.5 rf', fillstyle=\"none\", mew=2)\n",
    "plt.xlabel(\"Precision\")\n",
    "plt.ylabel(\"Recall\")\n",
    "plt.legend(loc=\"best\")"
   ]
  },
  {
   "cell_type": "markdown",
   "metadata": {},
   "source": [
    "<a id=\"6\"></a>\n",
    "# 6. final test"
   ]
  },
  {
   "cell_type": "code",
   "execution_count": 36,
   "metadata": {},
   "outputs": [
    {
     "name": "stdout",
     "output_type": "stream",
     "text": [
      "Random Forest final test score: 0.90\n",
      "Random Forest final cross-validation test score: 0.94\n",
      "\n",
      "confusion matrix:\n",
      "[[507  62]\n",
      " [  2  96]]\n",
      "\n",
      "accurcy rate with test data with 0.56 threshold is 91.75%\n",
      "\n",
      "random forest classification report with adjuested threshold\n",
      "\n",
      "              precision    recall  f1-score   support\n",
      "\n",
      "        Stay       1.00      0.91      0.95       569\n",
      "       Churn       0.64      0.98      0.78        98\n",
      "\n",
      "    accuracy                           0.92       667\n",
      "   macro avg       0.82      0.94      0.86       667\n",
      "weighted avg       0.94      0.92      0.92       667\n",
      "\n"
     ]
    }
   ],
   "source": [
    "print(\"Random Forest final test score: {:.2f}\".format(forest_ds.score(X_test, y_test)))\n",
    "foresttest_crossval = cross_val_score(forest_ds, df_train1, label)\n",
    "print(\"Random Forest final cross-validation test score: {:.2f}\".format(foresttest_crossval.mean()))\n",
    "\n",
    "test_forest = forest_ds.predict(X_test)\n",
    "confusion_foresttest=confusion_matrix(y_test, test_forest)\n",
    "print(\"\\nconfusion matrix:\\n{}\".format(confusion_foresttest))\n",
    "\n",
    "foresttest_proba = forest_ds.predict_proba(X_test)\n",
    "\n",
    "foresttest = (foresttest_proba [:,1] >= 0.56).astype('int')\n",
    "\n",
    "forestaccuracy_test = accuracy_score(y_test, foresttest)\n",
    "#test_crossval2 = cross_val_score(test, df_train1, label)\n",
    "print(\"\\naccurcy rate with test data with 0.56 threshold is {}\".format(str(round(forestaccuracy_test,4,)*100))+\"%\")\n",
    "#print(\"cross-validation rate with test data is {}\".format(str(round(test_crossval2,4,)*100))+\"%\")\n",
    "      \n",
    "print(\"\\nrandom forest classification report with adjuested threshold\\n\")\n",
    "print(classification_report(y_test, foresttest, target_names = [\"Stay\", \"Churn\"]))"
   ]
  },
  {
   "cell_type": "code",
   "execution_count": 37,
   "metadata": {},
   "outputs": [
    {
     "name": "stdout",
     "output_type": "stream",
     "text": [
      "Random Forest final test score: 0.89\n",
      "Random Forest final cross-validation test score for smote: 0.94\n",
      "\n",
      "confusion matrix:\n",
      "[[520  49]\n",
      " [ 23  75]]\n",
      "\n",
      "accurcy rate with test data with 0.56 threshold is 90.25%\n",
      "\n",
      "random forest classification report with adjuested threshold\n",
      "\n",
      "              precision    recall  f1-score   support\n",
      "\n",
      "        Stay       0.95      0.93      0.94       569\n",
      "       Churn       0.65      0.74      0.69        98\n",
      "\n",
      "    accuracy                           0.90       667\n",
      "   macro avg       0.80      0.84      0.82       667\n",
      "weighted avg       0.91      0.90      0.91       667\n",
      "\n"
     ]
    }
   ],
   "source": [
    "print(\"Random Forest final test score: {:.2f}\".format(forest_sm.score(X_test, y_test)))\n",
    "forestsmtest_crossval = cross_val_score(forest_sm, df_train1, label)\n",
    "print(\"Random Forest final cross-validation test score for smote: {:.2f}\".format(forestsmtest_crossval.mean()))\n",
    "\n",
    "test_forestsm = forest_sm.predict(X_test)\n",
    "confusion_forestsmtest=confusion_matrix(y_test, test_forestsm)\n",
    "print(\"\\nconfusion matrix:\\n{}\".format(confusion_forestsmtest))\n",
    "\n",
    "forestsmtest_proba = forest_sm.predict_proba(X_test)\n",
    "\n",
    "forestsmtest = (forestsmtest_proba [:,1] >= 0.56).astype('int')\n",
    "\n",
    "forestsmaccuracy_test = accuracy_score(y_test, forestsmtest)\n",
    "#test_crossval2 = cross_val_score(test, df_train1, label)\n",
    "print(\"\\naccurcy rate with test data with 0.56 threshold is {}\".format(str(round(forestsmaccuracy_test,4,)*100))+\"%\")\n",
    "#print(\"cross-validation rate with test data is {}\".format(str(round(test_crossval2,4,)*100))+\"%\")\n",
    "      \n",
    "print(\"\\nrandom forest classification report with adjuested threshold\\n\")\n",
    "print(classification_report(y_test, forestsmtest, target_names = [\"Stay\", \"Churn\"]))"
   ]
  },
  {
   "cell_type": "code",
   "execution_count": 38,
   "metadata": {},
   "outputs": [
    {
     "name": "stdout",
     "output_type": "stream",
     "text": [
      "Gradient Boosting final test score: 0.89\n",
      "Gradient Boosting final cross-validation test score: 0.94\n",
      "\n",
      "confusion matrix:\n",
      "[[520  49]\n",
      " [ 24  74]]\n",
      "\n",
      "confusion matrix without sm:\n",
      "[[558  11]\n",
      " [ 31  67]]\n",
      "\n",
      "confusion matrix with 0.38 threshold:\n",
      "[[507  62]\n",
      " [ 20  78]]\n",
      "\n",
      "accurcy rate with test data with 0.38 threshold is 87.71%\n",
      "\n",
      "gradient boost classification report with adjuested threshold\n",
      "\n",
      "              precision    recall  f1-score   support\n",
      "\n",
      "        Stay       0.96      0.89      0.93       569\n",
      "       Churn       0.56      0.80      0.66        98\n",
      "\n",
      "    accuracy                           0.88       667\n",
      "   macro avg       0.76      0.84      0.79       667\n",
      "weighted avg       0.90      0.88      0.89       667\n",
      "\n",
      "\n",
      "gradient boost classification report original\n",
      "\n",
      "              precision    recall  f1-score   support\n",
      "\n",
      "        Stay       0.95      0.98      0.96       569\n",
      "       Churn       0.86      0.68      0.76        98\n",
      "\n",
      "    accuracy                           0.94       667\n",
      "   macro avg       0.90      0.83      0.86       667\n",
      "weighted avg       0.93      0.94      0.93       667\n",
      "\n"
     ]
    }
   ],
   "source": [
    "print(\"Gradient Boosting final test score: {:.2f}\".format(gradient_sm.score(X_test, y_test)))\n",
    "gdtest_crossval = cross_val_score(gradient_sm, df_train1, label)\n",
    "print(\"Gradient Boosting final cross-validation test score: {:.2f}\".format(gdtest_crossval.mean()))\n",
    "\n",
    "test_gd = gradient_sm.predict(X_test)\n",
    "gdconfusion_test=confusion_matrix(y_test, test_gd)\n",
    "print(\"\\nconfusion matrix:\\n{}\".format(gdconfusion_test))\n",
    "\n",
    "test_gd_original = gradient.predict(X_test)\n",
    "gdoconfusion_test=confusion_matrix(y_test, test_gd_original)\n",
    "print(\"\\nconfusion matrix without sm:\\n{}\".format(gdoconfusion_test))\n",
    "\n",
    "gdtest_proba = gradient_sm.predict_proba(X_test)\n",
    "\n",
    "gdtest = (gdtest_proba [:,1] >= 0.38).astype('int')\n",
    "\n",
    "gdconfusion_test2=confusion_matrix(y_test, gdtest)\n",
    "print(\"\\nconfusion matrix with 0.38 threshold:\\n{}\".format(gdconfusion_test2))\n",
    "\n",
    "gdaccuracy_test = accuracy_score(y_test, gdtest)\n",
    "print(\"\\naccurcy rate with test data with 0.38 threshold is {}\".format(str(round(gdaccuracy_test,4,)*100))+\"%\")\n",
    "\n",
    "      \n",
    "print(\"\\ngradient boost classification report with adjuested threshold\\n\")\n",
    "print(classification_report(y_test, gdtest, target_names = [\"Stay\", \"Churn\"]))\n",
    "\n",
    "test_gdo = gradient.predict(X_test)\n",
    "print(\"\\ngradient boost classification report original\\n\")\n",
    "print(classification_report(y_test, test_gdo, target_names = [\"Stay\", \"Churn\"]))"
   ]
  },
  {
   "cell_type": "code",
   "execution_count": null,
   "metadata": {},
   "outputs": [],
   "source": []
  }
 ],
 "metadata": {
  "kernelspec": {
   "display_name": "Python 3",
   "language": "python",
   "name": "python3"
  },
  "language_info": {
   "codemirror_mode": {
    "name": "ipython",
    "version": 3
   },
   "file_extension": ".py",
   "mimetype": "text/x-python",
   "name": "python",
   "nbconvert_exporter": "python",
   "pygments_lexer": "ipython3",
   "version": "3.8.1"
  }
 },
 "nbformat": 4,
 "nbformat_minor": 4
}
